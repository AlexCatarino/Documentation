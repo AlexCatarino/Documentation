{
 "cells": [
  {
   "cell_type": "markdown",
   "metadata": {},
   "source": [
    "![QuantConnect Logo](https://cdn.quantconnect.com/web/i/icon.png)\n",
    "<hr>"
   ]
  },
  {
   "cell_type": "markdown",
   "metadata": {},
   "source": [
    "# Research to Production\n",
    "## Mean Reversion\n",
    "---------\n",
    "### Introduction\n",
    "Imagine that we've developed the following hypothesis: stocks that are below 1 standard deviation of their 30 day mean are due to revert and increase in value, statistically around 85% chance if we assume the return series is stationary and the price series is a Random Process. We've developed the following code in research to pick out such stocks from a preselected basket of stocks.\n",
    "\n",
    "<a href=\"/docs/v2/research-environment/tutorials/research-to-production/mean-reversion\">Documentation</a>"
   ]
  },
  {
   "cell_type": "markdown",
   "metadata": {},
   "source": [
    "### Import Libraries\n",
    "We'll need to import libraries to help with data processing. Import numpy and scipy libraries by the following:"
   ]
  },
  {
   "cell_type": "code",
   "execution_count": 1,
   "metadata": {},
   "outputs": [],
   "source": [
    "import numpy as np\n",
    "from scipy.stats import norm, zscore"
   ]
  },
  {
   "cell_type": "markdown",
   "metadata": {},
   "source": [
    "### Gathering Data\n",
    "To begin, we retrieve historical data for research."
   ]
  },
  {
   "cell_type": "code",
   "execution_count": 2,
   "metadata": {},
   "outputs": [
    {
     "data": {
      "text/html": [
       "<div>\n",
       "<style scoped>\n",
       "    .dataframe tbody tr th:only-of-type {\n",
       "        vertical-align: middle;\n",
       "    }\n",
       "\n",
       "    .dataframe tbody tr th {\n",
       "        vertical-align: top;\n",
       "    }\n",
       "\n",
       "    .dataframe thead th {\n",
       "        text-align: right;\n",
       "    }\n",
       "</style>\n",
       "<table border=\"1\" class=\"dataframe\">\n",
       "  <thead>\n",
       "    <tr style=\"text-align: right;\">\n",
       "      <th></th>\n",
       "      <th></th>\n",
       "      <th>close</th>\n",
       "      <th>high</th>\n",
       "      <th>low</th>\n",
       "      <th>open</th>\n",
       "      <th>volume</th>\n",
       "    </tr>\n",
       "    <tr>\n",
       "      <th>symbol</th>\n",
       "      <th>time</th>\n",
       "      <th></th>\n",
       "      <th></th>\n",
       "      <th></th>\n",
       "      <th></th>\n",
       "      <th></th>\n",
       "    </tr>\n",
       "  </thead>\n",
       "  <tbody>\n",
       "    <tr>\n",
       "      <th rowspan=\"5\" valign=\"top\">EDV TYCF240SL9PH</th>\n",
       "      <th>2021-01-05</th>\n",
       "      <td>149.533962</td>\n",
       "      <td>149.916101</td>\n",
       "      <td>147.956414</td>\n",
       "      <td>148.181778</td>\n",
       "      <td>170343.0</td>\n",
       "    </tr>\n",
       "    <tr>\n",
       "      <th>2021-01-06</th>\n",
       "      <td>147.799639</td>\n",
       "      <td>148.495328</td>\n",
       "      <td>146.976570</td>\n",
       "      <td>148.495328</td>\n",
       "      <td>179018.0</td>\n",
       "    </tr>\n",
       "    <tr>\n",
       "      <th>2021-01-07</th>\n",
       "      <td>143.605907</td>\n",
       "      <td>144.600449</td>\n",
       "      <td>142.680837</td>\n",
       "      <td>144.575953</td>\n",
       "      <td>157228.0</td>\n",
       "    </tr>\n",
       "    <tr>\n",
       "      <th>2021-01-08</th>\n",
       "      <td>141.998963</td>\n",
       "      <td>142.400699</td>\n",
       "      <td>141.509042</td>\n",
       "      <td>141.989165</td>\n",
       "      <td>921039.0</td>\n",
       "    </tr>\n",
       "    <tr>\n",
       "      <th>2021-01-09</th>\n",
       "      <td>141.587429</td>\n",
       "      <td>142.253723</td>\n",
       "      <td>140.617384</td>\n",
       "      <td>141.528638</td>\n",
       "      <td>416903.0</td>\n",
       "    </tr>\n",
       "    <tr>\n",
       "      <th>...</th>\n",
       "      <th>...</th>\n",
       "      <td>...</td>\n",
       "      <td>...</td>\n",
       "      <td>...</td>\n",
       "      <td>...</td>\n",
       "      <td>...</td>\n",
       "    </tr>\n",
       "    <tr>\n",
       "      <th rowspan=\"5\" valign=\"top\">SCHO UOVIOSUIT3DX</th>\n",
       "      <th>2021-12-24</th>\n",
       "      <td>50.860000</td>\n",
       "      <td>50.860000</td>\n",
       "      <td>50.835000</td>\n",
       "      <td>50.850000</td>\n",
       "      <td>867314.0</td>\n",
       "    </tr>\n",
       "    <tr>\n",
       "      <th>2021-12-28</th>\n",
       "      <td>50.830000</td>\n",
       "      <td>50.830000</td>\n",
       "      <td>50.820000</td>\n",
       "      <td>50.820000</td>\n",
       "      <td>1115527.0</td>\n",
       "    </tr>\n",
       "    <tr>\n",
       "      <th>2021-12-29</th>\n",
       "      <td>50.840000</td>\n",
       "      <td>50.840000</td>\n",
       "      <td>50.830000</td>\n",
       "      <td>50.830000</td>\n",
       "      <td>650861.0</td>\n",
       "    </tr>\n",
       "    <tr>\n",
       "      <th>2021-12-30</th>\n",
       "      <td>50.830000</td>\n",
       "      <td>50.840000</td>\n",
       "      <td>50.820000</td>\n",
       "      <td>50.820000</td>\n",
       "      <td>1377087.0</td>\n",
       "    </tr>\n",
       "    <tr>\n",
       "      <th>2021-12-31</th>\n",
       "      <td>50.850000</td>\n",
       "      <td>50.850000</td>\n",
       "      <td>50.830000</td>\n",
       "      <td>50.830000</td>\n",
       "      <td>961892.0</td>\n",
       "    </tr>\n",
       "  </tbody>\n",
       "</table>\n",
       "<p>4518 rows × 5 columns</p>\n",
       "</div>"
      ],
      "text/plain": [
       "                                   close        high         low        open  \\\n",
       "symbol            time                                                         \n",
       "EDV TYCF240SL9PH  2021-01-05  149.533962  149.916101  147.956414  148.181778   \n",
       "                  2021-01-06  147.799639  148.495328  146.976570  148.495328   \n",
       "                  2021-01-07  143.605907  144.600449  142.680837  144.575953   \n",
       "                  2021-01-08  141.998963  142.400699  141.509042  141.989165   \n",
       "                  2021-01-09  141.587429  142.253723  140.617384  141.528638   \n",
       "...                                  ...         ...         ...         ...   \n",
       "SCHO UOVIOSUIT3DX 2021-12-24   50.860000   50.860000   50.835000   50.850000   \n",
       "                  2021-12-28   50.830000   50.830000   50.820000   50.820000   \n",
       "                  2021-12-29   50.840000   50.840000   50.830000   50.830000   \n",
       "                  2021-12-30   50.830000   50.840000   50.820000   50.820000   \n",
       "                  2021-12-31   50.850000   50.850000   50.830000   50.830000   \n",
       "\n",
       "                                 volume  \n",
       "symbol            time                   \n",
       "EDV TYCF240SL9PH  2021-01-05   170343.0  \n",
       "                  2021-01-06   179018.0  \n",
       "                  2021-01-07   157228.0  \n",
       "                  2021-01-08   921039.0  \n",
       "                  2021-01-09   416903.0  \n",
       "...                                 ...  \n",
       "SCHO UOVIOSUIT3DX 2021-12-24   867314.0  \n",
       "                  2021-12-28  1115527.0  \n",
       "                  2021-12-29   650861.0  \n",
       "                  2021-12-30  1377087.0  \n",
       "                  2021-12-31   961892.0  \n",
       "\n",
       "[4518 rows x 5 columns]"
      ]
     },
     "execution_count": 2,
     "metadata": {},
     "output_type": "execute_result"
    }
   ],
   "source": [
    "# Instantiate a QuantBook.\n",
    "qb = QuantBook()\n",
    "\n",
    "# Select the desired tickers for research.\n",
    "symbols = {}\n",
    "assets = [\"SHY\", \"TLT\", \"SHV\", \"TLH\", \"EDV\", \"BIL\",\n",
    "          \"SPTL\", \"TBT\", \"TMF\", \"TMV\", \"TBF\", \"VGSH\", \"VGIT\",\n",
    "          \"VGLT\", \"SCHO\", \"SCHR\", \"SPTS\", \"GOVT\"]\n",
    "\n",
    "# Call the AddEquity method with the tickers, and its corresponding resolution. Then store their Symbols. Resolution.Minute is used by default. \n",
    "for i in range(len(assets)):\n",
    "    symbols[assets[i]] = qb.AddEquity(assets[i],Resolution.Minute).Symbol\n",
    "\n",
    "# Call the History method with qb.Securities.Keys for all tickers, time argument(s), and resolution to request historical data for the symbol.\n",
    "history = qb.History(qb.Securities.Keys, datetime(2021, 1, 1), datetime(2021, 12, 31), Resolution.Daily)\n",
    "history"
   ]
  },
  {
   "cell_type": "markdown",
   "metadata": {},
   "source": [
    "### Preparing Data\n",
    "We'll have to process our data to get an extent of the signal on how much the stock is deviated from its norm for each ticker. Since we're assuming Randon Process for the price series, and we can obtain the expected return and probability, we can use kelly criterion for portfolio allocation. To do so, please refer to <a href=\"https://www.academia.edu/1027427/Algorithms_for_optimal_allocation_of_bets_on_many_simultaneous_events\">Algorithms for optimal allocation of bets on many simultaneous events - C. Whitrow (2007)</a>."
   ]
  },
  {
   "cell_type": "code",
   "execution_count": 3,
   "metadata": {
    "scrolled": false
   },
   "outputs": [
    {
     "name": "stderr",
     "output_type": "stream",
     "text": [
      "/opt/miniconda3/lib/python3.6/site-packages/scipy/stats/_distn_infrastructure.py:1847: RuntimeWarning: invalid value encountered in greater_equal\n",
      "  cond2 = (x >= np.asarray(_b)) & cond0\n"
     ]
    }
   ],
   "source": [
    "# Select the close column and then call the unstack method.\n",
    "df = history['close'].unstack(level=0)\n",
    "\n",
    "# Calculate the truth value of the most recent price being less than 1 standard deviation away from the mean price.\n",
    "classifier = df.le(df.rolling(30).mean() - df.rolling(30).std())\n",
    "\n",
    "# Get the z-score for the True values, then compute the expected return and probability (used for Insight magnitude and confidence).\n",
    "z_score = df.apply(zscore)[classifier]\n",
    "magnitude = -z_score * df.rolling(30).std() / df\n",
    "confidence = (-z_score).apply(norm.cdf)\n",
    "\n",
    "# Call fillna to fill NaNs with 0\n",
    "magnitude.fillna(0, inplace=True)\n",
    "confidence.fillna(0, inplace=True)\n",
    "\n",
    "# Get our trading weight, we'd take a long only portfolio and normalized to total weight = 1\n",
    "weight = confidence - 1 / (magnitude + 1)\n",
    "weight = weight[weight > 0].fillna(0)\n",
    "sum_ = np.sum(weight, axis=1)\n",
    "for i in range(weight.shape[0]):\n",
    "    if sum_[i] > 0:\n",
    "        weight.iloc[i] = weight.iloc[i] / sum_[i]\n",
    "    else:\n",
    "        weight.iloc[i] = 0\n",
    "weight = weight.iloc[:-1]"
   ]
  },
  {
   "cell_type": "markdown",
   "metadata": {},
   "source": [
    "### Test the Hypothesis\n",
    "We would test the performance of this strategy. To do so, we would make use of the calculated weight for portfolio optimization."
   ]
  },
  {
   "cell_type": "code",
   "execution_count": 4,
   "metadata": {},
   "outputs": [
    {
     "data": {
      "image/png": "[encoded data removed]",
      "text/plain": [
       "<Figure size 1080x720 with 1 Axes>"
      ]
     },
     "metadata": {
      "needs_background": "light"
     },
     "output_type": "display_data"
    }
   ],
   "source": [
    "# Get the total daily return series\n",
    "ret = pd.Series(index=range(df.shape[0] - 1))\n",
    "for i in range(df.shape[0] - 1):\n",
    "    ret[i] = weight.iloc[i] @ df.pct_change().iloc[i + 1].T\n",
    "    \n",
    "# Call cumprod to get the cumulative return\n",
    "total_ret = (ret + 1).cumprod()\n",
    "\n",
    "# Set index for visualization\n",
    "total_ret.index = weight.index\n",
    "\n",
    "# Plot the result\n",
    "total_ret.plot(title='Strategy Equity Curve', figsize=(15, 10))\n",
    "plt.show()"
   ]
  }
 ],
 "metadata": {
  "kernelspec": {
   "display_name": "Python 3",
   "language": "python",
   "name": "python3"
  },
  "language_info": {
   "codemirror_mode": {
    "name": "ipython",
    "version": 3
   },
   "file_extension": ".py",
   "mimetype": "text/x-python",
   "name": "python",
   "nbconvert_exporter": "python",
   "pygments_lexer": "ipython3",
   "version": "3.6.8"
  }
 },
 "nbformat": 4,
 "nbformat_minor": 2
}
