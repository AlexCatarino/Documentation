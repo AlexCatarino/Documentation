{
 "cells": [
  {
   "cell_type": "markdown",
   "metadata": {},
   "source": [
    "![QuantConnect Logo](https://cdn.quantconnect.com/web/i/icon.png)\n",
    "<hr>"
   ]
  },
  {
   "cell_type": "markdown",
   "metadata": {},
   "source": [
    "# Research to Production\n",
    "## Long Short Term Memory\n",
    "---------\n",
    "### Introduction\n",
    "This notebook explains how to you can use the Research Environment to develop and test a Long Short Term Memory hypothesis, then put the hypothesis in production.\n",
    "\n",
    "<a href=\"https://www.quantconnect.com/docs/v2/research-environment/tutorials/research-to-production/long-short-term-memory\">Documentation</a>\n",
    "\n",
    "Recurrent neural networks (RNN) are a powerful tool in deep learning. These models quite accurately mimic how humans process sequencial information and learn. Unlike traditional feedforward neural networks, RNNs have memory. That is, information fed into them persists and the network is able to draw on this to make inferences.\n",
    "\n",
    "Long Short-term Memory (LSTM) is a type of RNN. Instead of one layer, LSTM cells generally have four, three of which are part of \"gates\" -- ways to optionally let information through. The three gates are commonly referred to as the forget, input, and output gates. The forget gate layer is where the model decides what information to keep from prior states. At the input gate layer, the model decides which values to update. Finally, the output gate layer is where the final output of the cell state is decided. Essentially, LSTM separately decides what to remember and the rate at which it should update.\n",
    "\n",
    "<img src=\"https://cdn.quantconnect.com/i/tu/lstm-cell-2.png\">\n",
    "<b>An exmaple of a LSTM cell: x is the input data, c is the long-term memory, h is the current state and serve as short-term memory, $\\sigma$ and $tanh$ is the non-linear activation function of the gates.</b><br/>\n",
    "<i><font font-size=\"2px\">Image source: https://en.wikipedia.org/wiki/Long_short-term_memory#/media/File:LSTM_Cell.svg</font></i>\n",
    "\n",
    "### Create Hypothesis\n",
    "LSTM models have produced some great results when applied to time-series prediction. One of the central challenges with conventional time-series models is that, despite trying to account for trends or other non-stationary elements, it is almost impossible to truly predict an outlier like a recession, flash crash, liquidity crisis, etc. By having a long memory, LSTM models are better able to capture these difficult trends in the data without suffering from the level of overfitting a conventional model would need in order to capture the same data.\n",
    "\n",
    "For a very basic application, we're hypothesizing LSTM can offer an accurate prediction in future price.\n",
    "\n",
    "### Prerequisites\n",
    "If you use Python, you must understand how to work with pandas DataFrames and Series. If you are not familiar with pandas, refer to the <a href=\"https://pandas.pydata.org/docs/\">pandas documentation</a>."
   ]
  },
  {
   "cell_type": "markdown",
   "metadata": {},
   "source": [
    "### Import Packages\n",
    "We'll need to import packages to help with data processing, visualisation and deep learning. Import keras, sklearn, numpy and matplotlib packages by the following:"
   ]
  },
  {
   "cell_type": "code",
   "execution_count": 1,
   "metadata": {},
   "outputs": [
    {
     "name": "stderr",
     "output_type": "stream",
     "text": [
      "Using TensorFlow backend.\n"
     ]
    }
   ],
   "source": [
    "from keras.layers import LSTM, Dense, Dropout\n",
    "from keras.models import Sequential\n",
    "from keras.callbacks import EarlyStopping\n",
    "from sklearn.preprocessing import MinMaxScaler\n",
    "\n",
    "import numpy as np\n",
    "from matplotlib import pyplot as plt"
   ]
  },
  {
   "cell_type": "markdown",
   "metadata": {},
   "source": [
    "### Get Historical Data\n",
    "To begin, we retrieve historical data for research."
   ]
  },
  {
   "cell_type": "code",
   "execution_count": 2,
   "metadata": {},
   "outputs": [
    {
     "data": {
      "text/html": [
       "<div>\n",
       "<style scoped>\n",
       "    .dataframe tbody tr th:only-of-type {\n",
       "        vertical-align: middle;\n",
       "    }\n",
       "\n",
       "    .dataframe tbody tr th {\n",
       "        vertical-align: top;\n",
       "    }\n",
       "\n",
       "    .dataframe thead th {\n",
       "        text-align: right;\n",
       "    }\n",
       "</style>\n",
       "<table border=\"1\" class=\"dataframe\">\n",
       "  <thead>\n",
       "    <tr style=\"text-align: right;\">\n",
       "      <th></th>\n",
       "      <th></th>\n",
       "      <th>close</th>\n",
       "      <th>high</th>\n",
       "      <th>low</th>\n",
       "      <th>open</th>\n",
       "      <th>volume</th>\n",
       "    </tr>\n",
       "    <tr>\n",
       "      <th>symbol</th>\n",
       "      <th>time</th>\n",
       "      <th></th>\n",
       "      <th></th>\n",
       "      <th></th>\n",
       "      <th></th>\n",
       "      <th></th>\n",
       "    </tr>\n",
       "  </thead>\n",
       "  <tbody>\n",
       "    <tr>\n",
       "      <th rowspan=\"11\" valign=\"top\">SPY R735QTJ8XC9X</th>\n",
       "      <th>2020-01-03</th>\n",
       "      <td>314.719177</td>\n",
       "      <td>314.719177</td>\n",
       "      <td>312.457136</td>\n",
       "      <td>313.469484</td>\n",
       "      <td>50490136.0</td>\n",
       "    </tr>\n",
       "    <tr>\n",
       "      <th>2020-01-04</th>\n",
       "      <td>312.336042</td>\n",
       "      <td>313.527609</td>\n",
       "      <td>311.076661</td>\n",
       "      <td>311.154161</td>\n",
       "      <td>62741403.0</td>\n",
       "    </tr>\n",
       "    <tr>\n",
       "      <th>2020-01-07</th>\n",
       "      <td>313.527609</td>\n",
       "      <td>313.614797</td>\n",
       "      <td>310.350096</td>\n",
       "      <td>310.427596</td>\n",
       "      <td>45171337.0</td>\n",
       "    </tr>\n",
       "    <tr>\n",
       "      <th>2020-01-08</th>\n",
       "      <td>312.646043</td>\n",
       "      <td>313.425890</td>\n",
       "      <td>312.171353</td>\n",
       "      <td>312.926982</td>\n",
       "      <td>36347825.0</td>\n",
       "    </tr>\n",
       "    <tr>\n",
       "      <th>2020-01-09</th>\n",
       "      <td>314.312300</td>\n",
       "      <td>315.600743</td>\n",
       "      <td>312.597605</td>\n",
       "      <td>312.897919</td>\n",
       "      <td>59590136.0</td>\n",
       "    </tr>\n",
       "    <tr>\n",
       "      <th>...</th>\n",
       "      <td>...</td>\n",
       "      <td>...</td>\n",
       "      <td>...</td>\n",
       "      <td>...</td>\n",
       "      <td>...</td>\n",
       "    </tr>\n",
       "    <tr>\n",
       "      <th>2021-12-28</th>\n",
       "      <td>477.260000</td>\n",
       "      <td>477.310000</td>\n",
       "      <td>472.010000</td>\n",
       "      <td>472.090000</td>\n",
       "      <td>47739260.0</td>\n",
       "    </tr>\n",
       "    <tr>\n",
       "      <th>2021-12-29</th>\n",
       "      <td>476.870000</td>\n",
       "      <td>478.810000</td>\n",
       "      <td>476.065000</td>\n",
       "      <td>477.800000</td>\n",
       "      <td>38617395.0</td>\n",
       "    </tr>\n",
       "    <tr>\n",
       "      <th>2021-12-30</th>\n",
       "      <td>477.480000</td>\n",
       "      <td>478.540000</td>\n",
       "      <td>475.950000</td>\n",
       "      <td>477.040000</td>\n",
       "      <td>48659382.0</td>\n",
       "    </tr>\n",
       "    <tr>\n",
       "      <th>2021-12-31</th>\n",
       "      <td>476.160000</td>\n",
       "      <td>479.000000</td>\n",
       "      <td>475.680000</td>\n",
       "      <td>477.980000</td>\n",
       "      <td>45696339.0</td>\n",
       "    </tr>\n",
       "    <tr>\n",
       "      <th>2022-01-01</th>\n",
       "      <td>474.960000</td>\n",
       "      <td>476.860000</td>\n",
       "      <td>474.680000</td>\n",
       "      <td>475.620000</td>\n",
       "      <td>53169133.0</td>\n",
       "    </tr>\n",
       "  </tbody>\n",
       "</table>\n",
       "<p>505 rows × 5 columns</p>\n",
       "</div>"
      ],
      "text/plain": [
       "                                  close        high         low        open  \\\n",
       "symbol           time                                                         \n",
       "SPY R735QTJ8XC9X 2020-01-03  314.719177  314.719177  312.457136  313.469484   \n",
       "                 2020-01-04  312.336042  313.527609  311.076661  311.154161   \n",
       "                 2020-01-07  313.527609  313.614797  310.350096  310.427596   \n",
       "                 2020-01-08  312.646043  313.425890  312.171353  312.926982   \n",
       "                 2020-01-09  314.312300  315.600743  312.597605  312.897919   \n",
       "...                                 ...         ...         ...         ...   \n",
       "                 2021-12-28  477.260000  477.310000  472.010000  472.090000   \n",
       "                 2021-12-29  476.870000  478.810000  476.065000  477.800000   \n",
       "                 2021-12-30  477.480000  478.540000  475.950000  477.040000   \n",
       "                 2021-12-31  476.160000  479.000000  475.680000  477.980000   \n",
       "                 2022-01-01  474.960000  476.860000  474.680000  475.620000   \n",
       "\n",
       "                                 volume  \n",
       "symbol           time                    \n",
       "SPY R735QTJ8XC9X 2020-01-03  50490136.0  \n",
       "                 2020-01-04  62741403.0  \n",
       "                 2020-01-07  45171337.0  \n",
       "                 2020-01-08  36347825.0  \n",
       "                 2020-01-09  59590136.0  \n",
       "...                                 ...  \n",
       "                 2021-12-28  47739260.0  \n",
       "                 2021-12-29  38617395.0  \n",
       "                 2021-12-30  48659382.0  \n",
       "                 2021-12-31  45696339.0  \n",
       "                 2022-01-01  53169133.0  \n",
       "\n",
       "[505 rows x 5 columns]"
      ]
     },
     "execution_count": 2,
     "metadata": {},
     "output_type": "execute_result"
    }
   ],
   "source": [
    "# Instantiate a QuantBook.\n",
    "qb = QuantBook()\n",
    "\n",
    "# Select the desired tickers for research.\n",
    "assets = \"SPY\"\n",
    "\n",
    "# Call the AddEquity method with the tickers, and its corresponding resolution. Then store their Symbols. Resolution.Minute is used by default. \n",
    "qb.AddEquity(assets, Resolution.Minute)\n",
    "\n",
    "# Call the History method with qb.Securities.Keys for all tickers, time argument(s), and resolution to request historical data for the symbol.\n",
    "history = qb.History(qb.Securities.Keys, datetime(2020, 1, 1), datetime(2022, 1, 1), Resolution.Daily)\n",
    "history"
   ]
  },
  {
   "cell_type": "markdown",
   "metadata": {},
   "source": [
    "### Preparing Data\n",
    "We'll have to process our data as well as build the LSTM model before testing the hypothesis. We would scale our data to for better covergence."
   ]
  },
  {
   "cell_type": "code",
   "execution_count": 3,
   "metadata": {
    "scrolled": false
   },
   "outputs": [],
   "source": [
    "# Select the close column and then call the unstack method.\n",
    "close = history['close'].unstack(level=0)\n",
    "\n",
    "# Initialize MinMaxScaler to scale the data onto [0,1].\n",
    "scaler = MinMaxScaler(feature_range = (0, 1))\n",
    "\n",
    "# Transform our data.\n",
    "df = pd.DataFrame(scaler.fit_transform(close), index=close.index)\n",
    "\n",
    "# Select input data\n",
    "input_ = df.iloc[1:]\n",
    "\n",
    "# Shift the data for 1-step backward as training output result.\n",
    "output = df.shift(-1).iloc[:-1]\n",
    "\n",
    "# Split the data into training and testing sets. In this example, we use the first 80% data for trianing, and the last 20% for testing.\n",
    "splitter = int(input_.shape[0] * 0.8)\n",
    "X_train = input_.iloc[:splitter]\n",
    "X_test = input_.iloc[splitter:]\n",
    "y_train = output.iloc[:splitter]\n",
    "y_test = output.iloc[splitter:]\n",
    "\n",
    "# Build feauture and label sets (using number of steps 60, and feature rank 1).\n",
    "features_set = []\n",
    "labels = []\n",
    "for i in range(60, X_train.shape[0]):\n",
    "    features_set.append(X_train.iloc[i-60:i].values.reshape(-1, 1))\n",
    "    labels.append(y_train.iloc[i])\n",
    "features_set, labels = np.array(features_set), np.array(labels)\n",
    "features_set = np.reshape(features_set, (features_set.shape[0], features_set.shape[1], 1))"
   ]
  },
  {
   "cell_type": "markdown",
   "metadata": {},
   "source": [
    "### Build Model\n",
    "We construct the LSTM model."
   ]
  },
  {
   "cell_type": "code",
   "execution_count": 4,
   "metadata": {},
   "outputs": [
    {
     "name": "stdout",
     "output_type": "stream",
     "text": [
      "WARNING:tensorflow:From /opt/miniconda3/lib/python3.6/site-packages/tensorflow_core/python/ops/resource_variable_ops.py:1630: calling BaseResourceVariable.__init__ (from tensorflow.python.ops.resource_variable_ops) with constraint is deprecated and will be removed in a future version.\n",
      "Instructions for updating:\n",
      "If using Keras pass *_constraint arguments to layers.\n",
      "Model: \"sequential_1\"\n",
      "_________________________________________________________________\n",
      "Layer (type)                 Output Shape              Param #   \n",
      "=================================================================\n",
      "lstm_1 (LSTM)                (None, 60, 50)            10400     \n",
      "_________________________________________________________________\n",
      "dropout_1 (Dropout)          (None, 60, 50)            0         \n",
      "_________________________________________________________________\n",
      "lstm_2 (LSTM)                (None, 60, 50)            20200     \n",
      "_________________________________________________________________\n",
      "dropout_2 (Dropout)          (None, 60, 50)            0         \n",
      "_________________________________________________________________\n",
      "lstm_3 (LSTM)                (None, 50)                20200     \n",
      "_________________________________________________________________\n",
      "dropout_3 (Dropout)          (None, 50)                0         \n",
      "_________________________________________________________________\n",
      "dense_1 (Dense)              (None, 5)                 255       \n",
      "_________________________________________________________________\n",
      "dense_2 (Dense)              (None, 1)                 6         \n",
      "=================================================================\n",
      "Total params: 51,061\n",
      "Trainable params: 51,061\n",
      "Non-trainable params: 0\n",
      "_________________________________________________________________\n"
     ]
    }
   ],
   "source": [
    "# Build a Sequential keras model.\n",
    "model = Sequential()\n",
    "\n",
    "# Create the model infrastructure.\n",
    "# Add our first LSTM layer - 50 nodes\n",
    "model.add(LSTM(units = 50, return_sequences=True, input_shape=(features_set.shape[1], 1)))\n",
    "# Add Dropout layer to avoid overfitting\n",
    "model.add(Dropout(0.2))\n",
    "# Add additional layers\n",
    "model.add(LSTM(units=50, return_sequences=True))\n",
    "model.add(Dropout(0.2))\n",
    "model.add(LSTM(units=50))\n",
    "model.add(Dropout(0.2))\n",
    "model.add(Dense(units = 5))\n",
    "model.add(Dense(units = 1))\n",
    "\n",
    "# Compile the model. We use Adam as optimizer for adpative step size and MSE as loss function since it is continuous data.\n",
    "model.compile(optimizer = 'adam', loss = 'mean_squared_error', metrics=['mae', 'acc'])\n",
    "\n",
    "# Set early stopping callback method.\n",
    "callback = EarlyStopping(monitor='loss', patience=3, verbose=1, restore_best_weights=True)\n",
    "\n",
    "# Display the model structure.\n",
    "model.summary()"
   ]
  },
  {
   "cell_type": "code",
   "execution_count": 5,
   "metadata": {},
   "outputs": [
    {
     "name": "stdout",
     "output_type": "stream",
     "text": [
      "WARNING:tensorflow:From /opt/miniconda3/lib/python3.6/site-packages/keras/backend/tensorflow_backend.py:422: The name tf.global_variables is deprecated. Please use tf.compat.v1.global_variables instead.\n",
      "\n",
      "Epoch 1/20\n",
      "343/343 [==============================] - 7s 21ms/step - loss: 0.2161 - mae: 0.4221 - acc: 0.0000e+00\n",
      "Epoch 2/20\n",
      "343/343 [==============================] - 5s 15ms/step - loss: 0.0295 - mae: 0.1410 - acc: 0.0000e+00\n",
      "Epoch 3/20\n",
      "343/343 [==============================] - 5s 16ms/step - loss: 0.0123 - mae: 0.0883 - acc: 0.0000e+00\n",
      "Epoch 4/20\n",
      "343/343 [==============================] - 5s 14ms/step - loss: 0.0220 - mae: 0.1178 - acc: 0.0000e+00\n",
      "Epoch 5/20\n",
      "343/343 [==============================] - 5s 14ms/step - loss: 0.0102 - mae: 0.0767 - acc: 0.0000e+00\n",
      "Epoch 6/20\n",
      "343/343 [==============================] - 4s 12ms/step - loss: 0.0105 - mae: 0.0873 - acc: 0.0000e+00\n",
      "Epoch 7/20\n",
      "343/343 [==============================] - 4s 13ms/step - loss: 0.0082 - mae: 0.0745 - acc: 0.0000e+00\n",
      "Epoch 8/20\n",
      "343/343 [==============================] - 4s 11ms/step - loss: 0.0076 - mae: 0.0675 - acc: 0.0000e+00\n",
      "Epoch 9/20\n",
      "343/343 [==============================] - 5s 13ms/step - loss: 0.0071 - mae: 0.0652 - acc: 0.0000e+00\n",
      "Epoch 10/20\n",
      "343/343 [==============================] - 5s 13ms/step - loss: 0.0048 - mae: 0.0560 - acc: 0.0000e+00\n",
      "Epoch 11/20\n",
      "343/343 [==============================] - 5s 15ms/step - loss: 0.0053 - mae: 0.0589 - acc: 0.0000e+00\n",
      "Epoch 12/20\n",
      "343/343 [==============================] - 5s 15ms/step - loss: 0.0050 - mae: 0.0543 - acc: 0.0000e+00\n",
      "Epoch 13/20\n",
      "343/343 [==============================] - 5s 15ms/step - loss: 0.0039 - mae: 0.0494 - acc: 0.0000e+00\n",
      "Epoch 14/20\n",
      "343/343 [==============================] - 5s 13ms/step - loss: 0.0042 - mae: 0.0490 - acc: 0.0000e+00\n",
      "Epoch 15/20\n",
      "343/343 [==============================] - 7s 20ms/step - loss: 0.0040 - mae: 0.0459 - acc: 0.0000e+00\n",
      "Epoch 16/20\n",
      "343/343 [==============================] - 8s 23ms/step - loss: 0.0039 - mae: 0.0483 - acc: 0.0000e+00\n",
      "Restoring model weights from the end of the best epoch\n",
      "Epoch 00016: early stopping\n"
     ]
    },
    {
     "data": {
      "text/plain": [
       "<keras.callbacks.callbacks.History at 0x7f70fc4e0ac8>"
      ]
     },
     "execution_count": 5,
     "metadata": {},
     "output_type": "execute_result"
    }
   ],
   "source": [
    "# Fit the model to our data, running 20 training epochs.\n",
    "model.fit(features_set, labels, epochs = 20, batch_size = 100, callbacks=[callback])"
   ]
  },
  {
   "cell_type": "markdown",
   "metadata": {},
   "source": [
    "Note that different training session's results will not be the same since the batch is randomly selected."
   ]
  },
  {
   "cell_type": "markdown",
   "metadata": {},
   "source": [
    "### Test the Hypothesis\n",
    "We would test the performance of this ML model to see if it could predict 1-step forward price precisely. To do so, we would compare the predicted and actual prices."
   ]
  },
  {
   "cell_type": "code",
   "execution_count": 6,
   "metadata": {
    "scrolled": false
   },
   "outputs": [
    {
     "data": {
      "image/png": "[encoded data removed]",
      "text/plain": [
       "<Figure size 1080x720 with 1 Axes>"
      ]
     },
     "metadata": {
      "needs_background": "light"
     },
     "output_type": "display_data"
    }
   ],
   "source": [
    "# Get testing set features for input.\n",
    "test_features = []\n",
    "for i in range(60, X_test.shape[0]):\n",
    "    test_features.append(X_test.iloc[i-60:i].values.reshape(-1, 1))\n",
    "test_features = np.array(test_features)\n",
    "test_features = np.reshape(test_features, (test_features.shape[0], test_features.shape[1], 1))\n",
    "\n",
    "# Make predictions.\n",
    "predictions = model.predict(test_features)\n",
    "\n",
    "# Transform predictions back to original data-scale.\n",
    "predictions = scaler.inverse_transform(predictions)\n",
    "actual = scaler.inverse_transform(y_test.values)\n",
    "\n",
    "# Plot the results\n",
    "plt.figure(figsize=(15, 10))\n",
    "plt.plot(actual[60:], color='blue', label='Actual')\n",
    "plt.plot(predictions , color='red', label='Prediction')\n",
    "plt.title('Price vs Predicted Price ')\n",
    "plt.legend()\n",
    "plt.show()"
   ]
  }
 ],
 "metadata": {
  "kernelspec": {
   "display_name": "Python 3",
   "language": "python",
   "name": "python3"
  },
  "language_info": {
   "codemirror_mode": {
    "name": "ipython",
    "version": 3
   },
   "file_extension": ".py",
   "mimetype": "text/x-python",
   "name": "python",
   "nbconvert_exporter": "python",
   "pygments_lexer": "ipython3",
   "version": "3.6.8"
  }
 },
 "nbformat": 4,
 "nbformat_minor": 2
}
